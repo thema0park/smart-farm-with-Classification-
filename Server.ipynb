{
 "cells": [
  {
   "cell_type": "code",
   "execution_count": 8,
   "metadata": {},
   "outputs": [
    {
     "name": "stdout",
     "output_type": "stream",
     "text": [
      "waiting for connection...\n"
     ]
    }
   ],
   "source": [
    "# -*- coding: utf-8 -*- i\n",
    "import socketserver \n",
    "def quit_server(client_addr): \n",
    "    print(\"{} was gone\".format(client_addr)) \n",
    "class MyTCPHandler(socketserver.BaseRequestHandler): \n",
    "    \"\"\" The request handler class for our server. \n",
    "    It is instantiated once per connection to the server, \n",
    "    and must override the handle() method to implement communication to the client. \"\"\" \n",
    "    def handle(self): \n",
    "        \"\"\" 클라이언트와 연결될 때 호출되는 함수 상위 클래스에는 \n",
    "        handle() 메서드가 정의되어 있지 않기 때문에 여기서 오버라이딩을 해야함 \"\"\" \n",
    "        self.recv_data = '' \n",
    "        while True: \n",
    "            try: \n",
    "                self.recv_data = self.request.recv(1024).strip() \n",
    "                # :/quit 를 입력하면 루프를 종료 \n",
    "                if self.recv_data == \":/quit\": \n",
    "                    quit_server(self.client_address[0]) \n",
    "                    break \n",
    "            except NameError as e: \n",
    "                print (\"{0} got an error : {1}\".format(self.client_address[0], e))\n",
    "            finally:\n",
    "                print (self.recv_data)\n",
    "                \n",
    "                # 영어의 소문자 데이터를 receive 하면 대문자로 변환해 \n",
    "                self.request.sendall(self.recv_data.upper()) \n",
    "if __name__ == \"__main__\": \n",
    "    HOST, PORT = \"192.168.0.14\", 3000 \n",
    "    # 서버를 생성합니다. 호스트는 localhost, 포트 번호는 3000 \n",
    "    server = socketserver.TCPServer((HOST, PORT), MyTCPHandler) \n",
    "    print(\"waiting for connection...\") \n",
    "    # Ctrl - C 로 종료하기 전까지는 서버는 멈추지 않고 작동 server.serve_forever()"
   ]
  },
  {
   "cell_type": "code",
   "execution_count": null,
   "metadata": {},
   "outputs": [],
   "source": [
    "import socket\n",
    "server_socket = socket.socket(socket.AF_INET,socket.SOCK_STREAM)\n",
    "server_socket.bind(('192.168.0.14',8585))\n",
    "server_socket.listen(0)\n",
    "client_socket,addr = server_socket.accept()\n",
    "while 1 :\n",
    "    data = client_socket.recv(65535)\n",
    "    print(data.decode())"
   ]
  },
  {
   "cell_type": "code",
   "execution_count": null,
   "metadata": {},
   "outputs": [],
   "source": []
  }
 ],
 "metadata": {
  "kernelspec": {
   "display_name": "Python 3",
   "language": "python",
   "name": "python3"
  },
  "language_info": {
   "codemirror_mode": {
    "name": "ipython",
    "version": 3
   },
   "file_extension": ".py",
   "mimetype": "text/x-python",
   "name": "python",
   "nbconvert_exporter": "python",
   "pygments_lexer": "ipython3",
   "version": "3.7.6"
  }
 },
 "nbformat": 4,
 "nbformat_minor": 2
}
